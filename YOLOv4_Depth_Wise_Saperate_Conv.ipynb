{
  "cells": [
    {
      "cell_type": "code",
      "execution_count": null,
      "metadata": {
        "colab": {
          "base_uri": "https://localhost:8080/"
        },
        "id": "fi2z-tWTFkJ4",
        "outputId": "b9a72f7d-8a3c-427c-e9c1-c472a29a7aaf"
      },
      "outputs": [
        {
          "output_type": "stream",
          "name": "stdout",
          "text": [
            "Mounted at /content/drive\n"
          ]
        }
      ],
      "source": [
        "from google.colab import drive\n",
        "drive._mount('/content/drive')"
      ]
    },
    {
      "cell_type": "code",
      "source": [
        "import torch.nn as nn"
      ],
      "metadata": {
        "id": "uDxp_DhLbKIY"
      },
      "execution_count": null,
      "outputs": []
    },
    {
      "cell_type": "code",
      "source": [
        "class SeparableConv2d(nn.Module):\n",
        "\n",
        "  def __init__(self, in_channels, out_channels, kernel_size, stride, padding, bias):\n",
        "      super(SeparableConv2d, self).__init__()\n",
        "      self.depthwise = nn.Conv2d(in_channels, in_channels, kernel_size=kernel_size, stride=stride, \n",
        "                                groups=1, bias=bias, padding=padding)\n",
        "      self.pointwise = nn.Conv2d(in_channels, out_channels, \n",
        "                                kernel_size=1, bias=bias)\n",
        "\n",
        "  def forward(self, x):\n",
        "      out = self.depthwise(x)\n",
        "      out = self.pointwise(out)\n",
        "      return out"
      ],
      "metadata": {
        "id": "29cVoVPgbDKD"
      },
      "execution_count": null,
      "outputs": []
    },
    {
      "cell_type": "code",
      "source": [
        "modules = nn.Sequential()\n",
        "modules.add_module('SeparableConv2d',nn.Conv2d(512,1024,kernel_size=3,bias=not 1, padding=1, stride=1))\n",
        "modules.to(0)"
      ],
      "metadata": {
        "id": "IQhWK_IWbRDo",
        "colab": {
          "base_uri": "https://localhost:8080/"
        },
        "outputId": "65604e71-7b6a-4a1f-e69b-976bbb62718d"
      },
      "execution_count": null,
      "outputs": [
        {
          "output_type": "execute_result",
          "data": {
            "text/plain": [
              "Sequential(\n",
              "  (SeparableConv2d): Conv2d(512, 1024, kernel_size=(3, 3), stride=(1, 1), padding=(1, 1), bias=False)\n",
              ")"
            ]
          },
          "metadata": {},
          "execution_count": 48
        }
      ]
    },
    {
      "cell_type": "code",
      "source": [
        "from torchsummary import summary\n",
        "summary(modules, (512, 640, 640))"
      ],
      "metadata": {
        "colab": {
          "base_uri": "https://localhost:8080/"
        },
        "id": "KtK7ZI04ezPY",
        "outputId": "05b22bdf-1076-4488-c44c-949990e2f24e"
      },
      "execution_count": null,
      "outputs": [
        {
          "output_type": "stream",
          "name": "stdout",
          "text": [
            "----------------------------------------------------------------\n",
            "        Layer (type)               Output Shape         Param #\n",
            "================================================================\n",
            "            Conv2d-1        [-1, 512, 640, 640]       2,359,296\n",
            "            Conv2d-2       [-1, 1024, 640, 640]         524,288\n",
            "   SeparableConv2d-3       [-1, 1024, 640, 640]               0\n",
            "================================================================\n",
            "Total params: 2,883,584\n",
            "Trainable params: 2,883,584\n",
            "Non-trainable params: 0\n",
            "----------------------------------------------------------------\n",
            "Input size (MB): 800.00\n",
            "Forward/backward pass size (MB): 8000.00\n",
            "Params size (MB): 11.00\n",
            "Estimated Total Size (MB): 8811.00\n",
            "----------------------------------------------------------------\n"
          ]
        }
      ]
    },
    {
      "cell_type": "code",
      "execution_count": null,
      "metadata": {
        "colab": {
          "base_uri": "https://localhost:8080/"
        },
        "id": "Fn4TAjIOQQAP",
        "outputId": "dbb34350-7859-455d-d269-204439ad05f4"
      },
      "outputs": [
        {
          "output_type": "stream",
          "name": "stdout",
          "text": [
            "Requirement already satisfied: PyYAML in /usr/local/lib/python3.7/dist-packages (3.13)\n",
            "Collecting PyYAML\n",
            "  Downloading PyYAML-6.0-cp37-cp37m-manylinux_2_5_x86_64.manylinux1_x86_64.manylinux_2_12_x86_64.manylinux2010_x86_64.whl (596 kB)\n",
            "\u001b[K     |████████████████████████████████| 596 kB 5.4 MB/s \n",
            "\u001b[?25hInstalling collected packages: PyYAML\n",
            "  Attempting uninstall: PyYAML\n",
            "    Found existing installation: PyYAML 3.13\n",
            "    Uninstalling PyYAML-3.13:\n",
            "      Successfully uninstalled PyYAML-3.13\n",
            "Successfully installed PyYAML-6.0\n"
          ]
        }
      ],
      "source": [
        "pip install -U PyYAML"
      ]
    },
    {
      "cell_type": "code",
      "execution_count": null,
      "metadata": {
        "colab": {
          "base_uri": "https://localhost:8080/"
        },
        "id": "VLJxKyzwvjfE",
        "outputId": "73b4df25-256f-4635-d194-1f54eecbf635"
      },
      "outputs": [
        {
          "output_type": "stream",
          "name": "stdout",
          "text": [
            "/content/drive/MyDrive/UIT_Dataset/PyTorch_YOLOv4\n",
            "Traceback (most recent call last):\n",
            "  File \"train.py\", line 11, in <module>\n",
            "    import torch.distributed as dist\n",
            "  File \"/usr/local/lib/python3.7/dist-packages/torch/__init__.py\", line 197, in <module>\n",
            "    from torch._C import *  # noqa: F403\n",
            "RuntimeError: KeyboardInterrupt: \n"
          ]
        }
      ],
      "source": [
        "%cd /content/drive/MyDrive/UIT_Dataset/PyTorch_YOLOv4\n",
        "!python train.py --device 0 --batch-size 4 --img 640 640 --data coco.yaml --cfg cfg/mycfg.cfg --name depth-wise-block --hyp 'data/my_hyp.scratch.yaml' --weights ./runs/train/depth-wise-block7/weights/last.pt --epochs 92"
      ]
    },
    {
      "cell_type": "code",
      "execution_count": null,
      "metadata": {
        "colab": {
          "base_uri": "https://localhost:8080/"
        },
        "id": "aJ2YcsCYeLFz",
        "outputId": "012b6a04-8bd8-49da-9a56-d0d2e77bcbb1"
      },
      "outputs": [
        {
          "output_type": "stream",
          "name": "stdout",
          "text": [
            "/content/drive/MyDrive/UIT_Dataset/PyTorch_YOLOv4\n",
            "Namespace(augment=False, batch_size=1, cfg='cfg/mycfg.cfg', conf_thres=0.001, data='./data/coco.yaml', device='0', exist_ok=False, img_size=640, iou_thres=0.65, name='exp', names='data/coco.names', project='runs/test', save_conf=False, save_json=True, save_txt=False, single_cls=False, task='test', verbose=True, weights=['./runs/train/depth-wise-block8/weights/best.pt'])\n",
            "Using torch 1.10.0+cu111 CUDA:0 (Tesla K80, 11441MB)\n",
            "\n",
            "Model Summary: 534 layers, 50287953 parameters, 50287953 gradients\n",
            "/usr/local/lib/python3.7/dist-packages/torch/functional.py:445: UserWarning: torch.meshgrid: in an upcoming release, it will be required to pass the indexing argument. (Triggered internally at  ../aten/src/ATen/native/TensorShape.cpp:2157.)\n",
            "  return _VF.meshgrid(tensors, **kwargs)  # type: ignore[attr-defined]\n",
            "Scanning labels DODV/test2017.cache3 (714 found, 0 missing, 6 empty, 0 duplicate, for 720 images): 720it [00:00, 9166.18it/s]\n",
            "               Class      Images     Targets           P           R      mAP@.5  mAP@.5:.95: 100% 720/720 [02:23<00:00,  5.03it/s]\n",
            "                 all         720    2.75e+03       0.745       0.849       0.851       0.672\n",
            "             caption         720    1.18e+03       0.815       0.661       0.818       0.504\n",
            "              figure         720         680       0.835       0.932       0.943       0.854\n",
            "               table         720         558       0.929       0.991       0.993        0.95\n",
            "             formula         720         339       0.402       0.811       0.649       0.379\n",
            "Speed: 110.1/1.6/111.8 ms inference/NMS/total per 640x640 image at batch-size 1\n",
            "\n",
            "Evaluating pycocotools mAP... saving runs/test/exp61/best_predictions.json...\n",
            "loading annotations into memory...\n",
            "ERROR: pycocotools unable to run: expected str, bytes or os.PathLike object, not list\n",
            "Results saved to runs/test/exp61\n"
          ]
        }
      ],
      "source": [
        "%cd /content/drive/MyDrive/UIT_Dataset/PyTorch_YOLOv4\n",
        "\n",
        "!python test.py --conf 0.001 --img 640 --batch 1 --device 0 --data coco.yaml --cfg cfg/mycfg.cfg --weights ./runs/train/depth-wise-block8/weights/best.pt --verbose --task test"
      ]
    }
  ],
  "metadata": {
    "accelerator": "GPU",
    "colab": {
      "collapsed_sections": [],
      "name": "YOLOv4_Depth-Wise Saperate Conv.ipynb",
      "provenance": []
    },
    "kernelspec": {
      "display_name": "Python 3",
      "name": "python3"
    },
    "language_info": {
      "name": "python"
    }
  },
  "nbformat": 4,
  "nbformat_minor": 0
}